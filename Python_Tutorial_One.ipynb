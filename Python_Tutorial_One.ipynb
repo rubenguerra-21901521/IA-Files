{
  "nbformat": 4,
  "nbformat_minor": 0,
  "metadata": {
    "colab": {
      "name": "Python_Tutorial_One.ipynb",
      "provenance": [],
      "collapsed_sections": [],
      "include_colab_link": true
    },
    "kernelspec": {
      "display_name": "Python 3",
      "language": "python",
      "name": "python3"
    },
    "language_info": {
      "codemirror_mode": {
        "name": "ipython",
        "version": 3
      },
      "file_extension": ".py",
      "mimetype": "text/x-python",
      "name": "python",
      "nbconvert_exporter": "python",
      "pygments_lexer": "ipython3",
      "version": "3.7.6"
    },
    "toc": {
      "base_numbering": 1,
      "nav_menu": {},
      "number_sections": false,
      "sideBar": true,
      "skip_h1_title": false,
      "title_cell": "Table of Contents",
      "title_sidebar": "Contents",
      "toc_cell": false,
      "toc_position": {},
      "toc_section_display": true,
      "toc_window_display": false
    },
    "varInspector": {
      "cols": {
        "lenName": 16,
        "lenType": 16,
        "lenVar": 40
      },
      "kernels_config": {
        "python": {
          "delete_cmd_postfix": "",
          "delete_cmd_prefix": "del ",
          "library": "var_list.py",
          "varRefreshCmd": "print(var_dic_list())"
        },
        "r": {
          "delete_cmd_postfix": ") ",
          "delete_cmd_prefix": "rm(",
          "library": "var_list.r",
          "varRefreshCmd": "cat(var_dic_list()) "
        }
      },
      "types_to_exclude": [
        "module",
        "function",
        "builtin_function_or_method",
        "instance",
        "_Feature"
      ],
      "window_display": false
    }
  },
  "cells": [
    {
      "cell_type": "markdown",
      "metadata": {
        "id": "view-in-github",
        "colab_type": "text"
      },
      "source": [
        "<a href=\"https://colab.research.google.com/github/rubenguerra-21901521/IA-Files/blob/main/Python_Tutorial_One.ipynb\" target=\"_parent\"><img src=\"https://colab.research.google.com/assets/colab-badge.svg\" alt=\"Open In Colab\"/></a>"
      ]
    },
    {
      "cell_type": "markdown",
      "metadata": {
        "id": "_NJ3uy14AZGM"
      },
      "source": [
        "# Primeira parte"
      ]
    },
    {
      "cell_type": "markdown",
      "metadata": {
        "id": "8N7Gzg2R3T7_"
      },
      "source": [
        "## Pergunta 1\n",
        "\n",
        "A norma L2 dum vector (o que é uma medida da sua magnitude) esta definida como\n",
        "\n",
        "$$ \\lVert x \\rVert = \\sqrt{\\sum_{i=1}^n x_i^2}$$"
      ]
    },
    {
      "cell_type": "markdown",
      "metadata": {
        "id": "iutG5hwxAZGR"
      },
      "source": [
        "\n",
        "Escreva um for loop para calcular esta medida, dado um vetor.  \n",
        "\n",
        "**Nota**\n",
        "- Para calcular a potência de um número em python podemos utilizar o operador ```**```\n",
        "- Elevar um escalar a $0.5$ ou $(1/2)$ é o mesmo que aplicar a raiz quadrada"
      ]
    },
    {
      "cell_type": "code",
      "metadata": {
        "ExecuteTime": {
          "end_time": "2021-02-22T00:21:02.257463Z",
          "start_time": "2021-02-22T00:21:02.250981Z"
        },
        "id": "Ykdi2cReAZGS",
        "outputId": "4031b673-dadc-4cb1-812a-82980377d0bf"
      },
      "source": [
        "4**(1/2)"
      ],
      "execution_count": null,
      "outputs": [
        {
          "output_type": "execute_result",
          "data": {
            "text/plain": [
              "2.0"
            ]
          },
          "metadata": {
            "tags": []
          },
          "execution_count": 37
        }
      ]
    },
    {
      "cell_type": "code",
      "metadata": {
        "ExecuteTime": {
          "end_time": "2021-02-22T00:28:07.157051Z",
          "start_time": "2021-02-22T00:28:07.150495Z"
        },
        "id": "lVoWgZTe0CGm",
        "colab": {
          "base_uri": "https://localhost:8080/"
        },
        "outputId": "a37f6812-58f2-471e-dd89-d3d50cd8273f"
      },
      "source": [
        "v1 = [2,2]\n",
        "\n",
        "# para este caso!\n",
        "norm = (2**2 + 2**2) **(1/2)\n",
        "\n",
        "#forma fixolas\n",
        "norm2 = sum([a_value **2 for a_value in v1])**(1/2)\n",
        "norm2"
      ],
      "execution_count": 41,
      "outputs": [
        {
          "output_type": "execute_result",
          "data": {
            "text/plain": [
              "2.8284271247461903"
            ]
          },
          "metadata": {
            "tags": []
          },
          "execution_count": 41
        }
      ]
    },
    {
      "cell_type": "markdown",
      "metadata": {
        "id": "rC-2j2O6w8o8"
      },
      "source": [
        "\n",
        "## Pergunta 2\n",
        "\n",
        "O produto escalar (dot product) entre dois vetores $v1$ e $v2$ de tamanho $n$ é definido por \n",
        "\n",
        "$\\sum_{i=1}^n v1_i . v2_i $\n",
        "\n",
        "defina o `for` loop necessário para calcular o produto ponto de quaisquer vetores $v1$ e $v2$.\n",
        "\n"
      ]
    },
    {
      "cell_type": "code",
      "metadata": {
        "ExecuteTime": {
          "end_time": "2021-02-22T00:03:58.965799Z",
          "start_time": "2021-02-22T00:03:58.962082Z"
        },
        "id": "71CalRrKw-TJ",
        "colab": {
          "base_uri": "https://localhost:8080/"
        },
        "outputId": "960aa14a-5e57-4917-cd92-cd1438437c44"
      },
      "source": [
        "# pergunta 1\n",
        "\n",
        "v1 = [1,2]\n",
        "v2 = [-3,2]\n",
        "value = 0\n",
        "# inserir codigo aqui \n",
        "for index in range(len(v1)):\n",
        "  value += v1[index]*v2[index]\n",
        "\n",
        "value"
      ],
      "execution_count": 26,
      "outputs": [
        {
          "output_type": "execute_result",
          "data": {
            "text/plain": [
              "1"
            ]
          },
          "metadata": {
            "tags": []
          },
          "execution_count": 26
        }
      ]
    },
    {
      "cell_type": "markdown",
      "metadata": {
        "id": "l40MIkKu0N2v"
      },
      "source": [
        "## Pergunta 3\n",
        "\n",
        "Experimente usar a função `zip` pasando como parâmetros os vetores v1 e v2. Descreva o que a função produz como resultado.\n",
        "\n",
        "**Nota.** O `zip` vai produzir um objeto da classe zip, mas nos podemos converter esse resultado numa lista através de chamar `list` no resultado do zip"
      ]
    },
    {
      "cell_type": "code",
      "metadata": {
        "id": "pSufwTO8ygIJ",
        "colab": {
          "base_uri": "https://localhost:8080/"
        },
        "outputId": "f9726645-e0cf-40f8-9508-d765e5accb51"
      },
      "source": [
        "# pergunta 2\n",
        "\n",
        "v1 = [1,2,3,4]\n",
        "v2 = [3,2,5,4]\n",
        "\n",
        "# defina uma variável x e instancie com a aplicação da função zip(v1,v2)\n",
        "\n",
        "x = zip(v1,v2)\n",
        "produto = 0\n",
        "for first,secound in x:\n",
        "  produto += first*secound\n",
        "\n",
        "produto"
      ],
      "execution_count": 28,
      "outputs": [
        {
          "output_type": "execute_result",
          "data": {
            "text/plain": [
              "38"
            ]
          },
          "metadata": {
            "tags": []
          },
          "execution_count": 28
        }
      ]
    },
    {
      "cell_type": "code",
      "metadata": {
        "id": "dQu-mQtuAZGW"
      },
      "source": [
        "# Insera o codigo For para aplicar à variavel x para calcular o "
      ],
      "execution_count": 30,
      "outputs": []
    },
    {
      "cell_type": "markdown",
      "metadata": {
        "id": "ub3hgIKSAZGY"
      },
      "source": [
        "\n",
        "## Pergunta 4\n",
        "\n",
        "Como poderiamos escrever o código para calcular o produto ponto de uma forma super Pythonica?\n",
        "\n",
        "**Dica 1.** usar o `zip`   \n",
        "**Dica 2:** quando temos uma lista de número `l` e queremos obter a soma dos seus valores basta com fazer:\n",
        "\n",
        "`sum(l)`"
      ]
    },
    {
      "cell_type": "code",
      "metadata": {
        "id": "kouVzfwHz2GQ",
        "colab": {
          "base_uri": "https://localhost:8080/"
        },
        "outputId": "bbf0962c-b940-4bfa-93cc-15ae81d65b9e"
      },
      "source": [
        "v1 = [1,2,3,4]\n",
        "v2 = [3,2,5,4]\n",
        "\n",
        "# inserir o codigo aqui\n",
        "sum([value_v1 * value_v2 for value_v1,value_v2 in zip(v1,v2)])"
      ],
      "execution_count": 31,
      "outputs": [
        {
          "output_type": "execute_result",
          "data": {
            "text/plain": [
              "38"
            ]
          },
          "metadata": {
            "tags": []
          },
          "execution_count": 31
        }
      ]
    },
    {
      "cell_type": "markdown",
      "metadata": {
        "id": "Vb12GvWP-g-A"
      },
      "source": [
        "## Pergunta 5\n",
        "\n",
        "Um dos temas que ainda não abordamos é como definir **funções** em Python. A forma mais basica duma função em Python é muito simples:\n",
        "\n",
        "```python\n",
        "def name_of_the_function(arguments):\n",
        "   \"\"\"\n",
        "   \"\"\"\n",
        "    do something\n",
        "    ...\n",
        "    return the_result\n",
        "```\n",
        "\n",
        "1. Defina a função para calcular o produto ponto de dois vetores $v1$ e $v2$\n",
        "\n",
        "2. Defina a função para calcular a norma L2 dum vetor $v$\n"
      ]
    },
    {
      "cell_type": "code",
      "metadata": {
        "id": "tHIzPKN14uU9"
      },
      "source": [
        "# produto ponto\n",
        "\n",
        "def dot_product(v1, v2):\n",
        "  return sum([value_v1 * value_v2 for value_v1,value_v2 in zip(v1,v2)])\n"
      ],
      "execution_count": 32,
      "outputs": []
    },
    {
      "cell_type": "code",
      "metadata": {
        "id": "RgP41CZ9AZGb"
      },
      "source": [
        "# norma L2\n",
        "\n",
        "def norm_l2(v):\n",
        "  return sum([a_value **2 for a_value in v1])**(1/2)"
      ],
      "execution_count": 43,
      "outputs": []
    },
    {
      "cell_type": "markdown",
      "metadata": {
        "id": "B5ZKUFsG_kzI"
      },
      "source": [
        "## Pergunta 6\n",
        "\n",
        "Existe uma medida de similaridade entre vetores muito utilizada na ciência dos dados chamada _similaridade coseno_. Dados dois vetores $v1$ e $v2$ esta medida de similaridade é definida pela formula seguinte:\n",
        "\n",
        "\n",
        "$$\n",
        "  cos(v1, v2) = \\frac{v1 . v2}{\\lVert v1 \\rVert \\times \\lVert v2 \\rVert}\n",
        "$$  \n",
        "\n",
        "Utilizando as funções anteriores, defina esta função de similaridade.\n"
      ]
    },
    {
      "cell_type": "code",
      "metadata": {
        "ExecuteTime": {
          "end_time": "2021-02-22T00:36:27.602210Z",
          "start_time": "2021-02-22T00:36:27.598791Z"
        },
        "id": "iJmEsbJ5AeyG"
      },
      "source": [
        "# Similaridade coseno\n",
        "\n",
        "def sim_cos(v1, v2):\n",
        "  # inserir codigo aqui\n",
        "  return None\n"
      ],
      "execution_count": null,
      "outputs": []
    },
    {
      "cell_type": "code",
      "metadata": {
        "id": "0F0eJlv27poF"
      },
      "source": [
        "v1 = [1,2,3,4]\n",
        "v2 = [3,2,5,4]\n",
        "\n",
        "# testar codigo"
      ],
      "execution_count": null,
      "outputs": []
    },
    {
      "cell_type": "markdown",
      "metadata": {
        "id": "MYflrEdIA4Cr"
      },
      "source": [
        "# Segunda Parte\n",
        "\n",
        "Considere os dados seguintes, os quais correspondem a notas de alunos no ensino secundário.\n",
        "\n",
        "|            | Maria    | Filipe    | Martin    | Raquel   | Ana      |\n",
        "|------------|----------|-----------|-----------|----------|----------|\n",
        "| genero     | feminino | masculino | masculino | feminino | feminino |\n",
        "| matematica | 14       | 15        | 14        | 16       | 18       |\n",
        "| biologia   | 17       | 14        | 17        | 16       | 15       |\n",
        "| fisica     | 12       | 18        | 17        | 18       | 17       |\n",
        "\n",
        "1. Defina uma estrutura de tipo dicionario que guarde esta informação.\n"
      ]
    },
    {
      "cell_type": "code",
      "metadata": {
        "ExecuteTime": {
          "end_time": "2021-02-22T00:38:22.611769Z",
          "start_time": "2021-02-22T00:38:22.605267Z"
        },
        "id": "IS_stM5KDA2p"
      },
      "source": [
        "my_dict = {\n",
        "    'maria':  {'gender' : 'female', 'math': 14, 'bio' : 17, 'physics' : 12},\n",
        "    'filipe': {'gender' : 'male',   'math': 15, 'bio' : 14, 'physics' : 18},\n",
        "    'martin': {'gender' : 'male',   'math': 14, 'bio' : 17, 'physics' : 17},\n",
        "    'raquel': {'gender' : 'female', 'math': 16, 'bio' : 16, 'physics' : 18},\n",
        "    'ana':    {'gender' : 'female', 'math': 18, 'bio' : 15, 'physics' : 17}\n",
        "}"
      ],
      "execution_count": null,
      "outputs": []
    },
    {
      "cell_type": "markdown",
      "metadata": {
        "id": "CVzSkrkkAZGd"
      },
      "source": [
        "\n",
        "2. Defina uma função `group_mean` para calcular a media do grupo para uma cadeira específica (enviada como argumento)"
      ]
    },
    {
      "cell_type": "code",
      "metadata": {
        "id": "GTFsS_XfAZGe"
      },
      "source": [
        "# Aqui estou a dar um ponto de partida para facilitar.\n",
        "def group_mean(data, subject):\n",
        "    \"\"\"\n",
        "    \"\"\"\n",
        "    res = 0\n",
        "    for item in data:\n",
        "        print(item)"
      ],
      "execution_count": null,
      "outputs": []
    },
    {
      "cell_type": "markdown",
      "metadata": {
        "id": "pPDcQVA7AZGe"
      },
      "source": [
        "\n",
        "3. Altere uma cópia da definição da sua função e chame a esta cópia `gender_mean` para calcular a media de grupo para uma cadeira, mas identificando o género (também passado como argumento)"
      ]
    },
    {
      "cell_type": "markdown",
      "metadata": {
        "id": "qPbU_zKjGZOH"
      },
      "source": [
        "# Pergunta Bónus\n",
        "\n",
        "Escreva uma list comprehension que filtre, de uma lista pre-existente de palavras, aquelas que tenham mais do que quatro lettras, e nas quais aparecam pelo menos duas vogais diferentes.\n",
        "\n"
      ]
    },
    {
      "cell_type": "code",
      "metadata": {
        "ExecuteTime": {
          "end_time": "2021-02-22T00:40:35.410380Z",
          "start_time": "2021-02-22T00:40:35.403514Z"
        },
        "id": "dMMOlETnEHuj"
      },
      "source": [
        "my_words = ['pyramid', 'car', 'quiet']\n",
        "\n",
        "def count_vowels(word):\n",
        "    vowels = ['a','e','i','o', 'u']\n",
        "    cnt = None # update the code here\n",
        "    return None # update the code here"
      ],
      "execution_count": null,
      "outputs": []
    },
    {
      "cell_type": "code",
      "metadata": {
        "ExecuteTime": {
          "end_time": "2021-02-22T00:40:58.458051Z",
          "start_time": "2021-02-22T00:40:58.454951Z"
        },
        "id": "GmztaRhzAZGf"
      },
      "source": [
        "# crie aqui uma list comprehesion"
      ],
      "execution_count": null,
      "outputs": []
    }
  ]
}